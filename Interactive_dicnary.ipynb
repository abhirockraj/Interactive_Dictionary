{
 "cells": [
  {
   "cell_type": "code",
   "execution_count": 12,
   "metadata": {},
   "outputs": [
    {
     "name": "stdout",
     "output_type": "stream",
     "text": [
      "Enter a Word to know it's meaningrainn\n",
      "Did you mean rain instead? Enter Y for yes and N for No:n\n",
      "Please double check the word it does not exist\n"
     ]
    }
   ],
   "source": [
    "import json\n",
    "from difflib import get_close_matches\n",
    "data = json.load(open(\"data.json\",'r'))\n",
    "def translet(word):\n",
    "    w=word.lower()\n",
    "    if( w in data):\n",
    "        return data[w]\n",
    "    elif len(get_close_matches(w,data.keys(),cutoff=0.8))>0:\n",
    "        yn = input(\"Did you mean %s instead? Enter Y for yes and N for No:\" % get_close_matches(w,data.keys())[0])\n",
    "        if(yn.upper()==\"Y\"):\n",
    "            return (data[get_close_matches(w,data.keys())[0]])\n",
    "        elif(yn.upper()==\"N\"):\n",
    "            return(\"Please double check the word it does not exist\")\n",
    "        else:\n",
    "            return(\"we do not under stand your query\")\n",
    "        \n",
    "    else:\n",
    "        return (\"Word do not exit please check it twice\")\n",
    "\n",
    "word = input(\"Enter a Word to know it's meaning\")\n",
    "out = translet(word)\n",
    "if(type(out)== list):\n",
    "    for x in out:\n",
    "        print(x)\n",
    "else:\n",
    "    print(out)\n"
   ]
  },
  {
   "cell_type": "code",
   "execution_count": null,
   "metadata": {},
   "outputs": [],
   "source": []
  },
  {
   "cell_type": "code",
   "execution_count": null,
   "metadata": {},
   "outputs": [],
   "source": []
  }
 ],
 "metadata": {
  "kernelspec": {
   "display_name": "Python 3",
   "language": "python",
   "name": "python3"
  },
  "language_info": {
   "codemirror_mode": {
    "name": "ipython",
    "version": 3
   },
   "file_extension": ".py",
   "mimetype": "text/x-python",
   "name": "python",
   "nbconvert_exporter": "python",
   "pygments_lexer": "ipython3",
   "version": "3.7.6"
  }
 },
 "nbformat": 4,
 "nbformat_minor": 4
}
